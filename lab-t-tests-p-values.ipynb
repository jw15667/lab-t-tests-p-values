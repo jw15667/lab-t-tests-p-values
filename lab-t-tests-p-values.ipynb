{
 "cells": [
  {
   "cell_type": "markdown",
   "metadata": {},
   "source": [
    "**Lab | Inferential statistics - T-test & P-value**\n",
    "\n",
    "Instructions\n",
    "\n",
    "We will have another simple example on two sample t test (pooled- when the variances are equal). But this time this is a one sided t-test\n",
    "\n",
    "In a packing plant, a machine packs cartons with jars. It is supposed that a new machine will pack faster on the average than the machine currently used. To test that hypothesis, the times it takes each machine to pack ten cartons are recorded.\n",
    "\n",
    "The results, in seconds, are shown in the tables in the file files_for_lab/machine.txt. Assume that there is sufficient evidence to conduct the t test, does the data provide sufficient evidence to show if one machine is better than the other\n",
    "\n",
    "An additional problem (not mandatory): \n",
    "- In this case we can't assume that the population variances are equal. \n",
    "- Hence in this case we cannot pool the variances. Independent random samples of 17 sophomores and 13 juniors attending a large university yield the following data on grade point averages. \n",
    "- Data is provided in the file files_for_lab/student_gpa.txt. \n",
    "- At the 5% significance level, do the data provide sufficient evidence to conclude that the mean GPAs of sophomores and juniors at the university differ?\n",
    "\n",
    "- Test statistics can be calculated as: link to the image - Test statistics calculation for Unpooled Variance Case\n",
    "\n",
    "- Degrees of freedom is (n1-1)+(n2-1).\n",
    "\n"
   ]
  },
  {
   "cell_type": "code",
   "execution_count": 1,
   "metadata": {},
   "outputs": [],
   "source": [
    "import pandas as pd\n",
    "import codecs\n",
    "import numpy as np\n",
    "import math"
   ]
  },
  {
   "cell_type": "code",
   "execution_count": 2,
   "metadata": {},
   "outputs": [],
   "source": [
    "machines_txt = codecs.open(\"C:/Users/jw156/Ironhack/Day37/Afternoon/Lab/lab-t-tests-p-values/files_for_lab/machine.txt\", \"r\", \"utf-16\")\n",
    "machines =pd.read_csv(machines_txt, sep = \"\\t\")"
   ]
  },
  {
   "cell_type": "code",
   "execution_count": 3,
   "metadata": {},
   "outputs": [],
   "source": [
    "students_txt = codecs.open(\"C:/Users/jw156/Ironhack/Day37/Afternoon/Lab/lab-t-tests-p-values/files_for_lab/student_gpa.txt\", \"r\", \"utf-8\")\n",
    "students =pd.read_csv(students_txt, sep = \"\\t\")"
   ]
  },
  {
   "cell_type": "markdown",
   "metadata": {},
   "source": [
    "## Machine"
   ]
  },
  {
   "cell_type": "markdown",
   "metadata": {},
   "source": [
    "**Hypothesis**"
   ]
  },
  {
   "cell_type": "markdown",
   "metadata": {},
   "source": [
    "A new machine will pack faster on the average than the machine currently used"
   ]
  },
  {
   "cell_type": "code",
   "execution_count": 4,
   "metadata": {},
   "outputs": [],
   "source": [
    "machines.columns = [\"New machine\", \"Old machine\"]"
   ]
  },
  {
   "cell_type": "code",
   "execution_count": 5,
   "metadata": {},
   "outputs": [
    {
     "name": "stdout",
     "output_type": "stream",
     "text": [
      "T Statistic is:  -3.5809955894645813\n"
     ]
    }
   ],
   "source": [
    "sample_mean1 = np.mean(machines['New machine'])\n",
    "sample_std1 = np.std(machines['New machine'])\n",
    "n1 = 10\n",
    "sample_mean2 = np.mean(machines['Old machine']) \n",
    "sample_std2 = np.std(machines['Old machine'])\n",
    "n2 = 10\n",
    "\n",
    "pooled_sample_std = math.sqrt(((n1-1)*sample_std1**2 + (n2-1)*sample_std2**2)/(n1+n2-2))\n",
    "statistic = (sample_mean1-sample_mean2)/(pooled_sample_std*math.sqrt((1/n1)+(1/n2)))\n",
    "print(\"T Statistic is: \", statistic)"
   ]
  },
  {
   "cell_type": "code",
   "execution_count": 6,
   "metadata": {},
   "outputs": [
    {
     "name": "stdout",
     "output_type": "stream",
     "text": [
      "P value is:  0.0010677934016937686\n",
      "Critical Value of z is:  -1.734063606617536\n"
     ]
    }
   ],
   "source": [
    "# Using python to find the p value and critical value\n",
    "\n",
    "from scipy.stats import t\n",
    "\n",
    "print(\"P value is: \", t.cdf(statistic,n1+n2-2))\n",
    "print(\"Critical Value of z is: \", t.ppf(0.05, n1+n2-2)) #alpha is 0.05"
   ]
  },
  {
   "cell_type": "code",
   "execution_count": 7,
   "metadata": {},
   "outputs": [],
   "source": [
    "# reject the null hypothesis and accept the alternative hypothesis accepted "
   ]
  },
  {
   "cell_type": "markdown",
   "metadata": {},
   "source": [
    "## Students"
   ]
  },
  {
   "cell_type": "markdown",
   "metadata": {},
   "source": [
    "**Hypothesis**"
   ]
  },
  {
   "cell_type": "markdown",
   "metadata": {},
   "source": [
    "The mean GPAs of sophomores and juniors at the university differ"
   ]
  },
  {
   "cell_type": "markdown",
   "metadata": {},
   "source": [
    "**Null Hypothesis**"
   ]
  },
  {
   "cell_type": "markdown",
   "metadata": {},
   "source": [
    "The mean GPAs of sophomores and juniors at the university do not differ"
   ]
  },
  {
   "cell_type": "code",
   "execution_count": 8,
   "metadata": {},
   "outputs": [],
   "source": [
    "students.columns = ['Sophomores', 'Juniors']"
   ]
  },
  {
   "cell_type": "code",
   "execution_count": 9,
   "metadata": {},
   "outputs": [
    {
     "data": {
      "text/html": [
       "<div>\n",
       "<style scoped>\n",
       "    .dataframe tbody tr th:only-of-type {\n",
       "        vertical-align: middle;\n",
       "    }\n",
       "\n",
       "    .dataframe tbody tr th {\n",
       "        vertical-align: top;\n",
       "    }\n",
       "\n",
       "    .dataframe thead th {\n",
       "        text-align: right;\n",
       "    }\n",
       "</style>\n",
       "<table border=\"1\" class=\"dataframe\">\n",
       "  <thead>\n",
       "    <tr style=\"text-align: right;\">\n",
       "      <th></th>\n",
       "      <th>Sophomores</th>\n",
       "      <th>Juniors</th>\n",
       "    </tr>\n",
       "  </thead>\n",
       "  <tbody>\n",
       "    <tr>\n",
       "      <th>0</th>\n",
       "      <td>3.04</td>\n",
       "      <td>2.56</td>\n",
       "    </tr>\n",
       "    <tr>\n",
       "      <th>1</th>\n",
       "      <td>1.71</td>\n",
       "      <td>2.77</td>\n",
       "    </tr>\n",
       "    <tr>\n",
       "      <th>2</th>\n",
       "      <td>3.30</td>\n",
       "      <td>2.70</td>\n",
       "    </tr>\n",
       "    <tr>\n",
       "      <th>3</th>\n",
       "      <td>2.88</td>\n",
       "      <td>3.00</td>\n",
       "    </tr>\n",
       "    <tr>\n",
       "      <th>4</th>\n",
       "      <td>2.11</td>\n",
       "      <td>2.98</td>\n",
       "    </tr>\n",
       "    <tr>\n",
       "      <th>5</th>\n",
       "      <td>2.60</td>\n",
       "      <td>3.47</td>\n",
       "    </tr>\n",
       "    <tr>\n",
       "      <th>6</th>\n",
       "      <td>2.92</td>\n",
       "      <td>3.26</td>\n",
       "    </tr>\n",
       "    <tr>\n",
       "      <th>7</th>\n",
       "      <td>3.60</td>\n",
       "      <td>3.20</td>\n",
       "    </tr>\n",
       "    <tr>\n",
       "      <th>8</th>\n",
       "      <td>2.28</td>\n",
       "      <td>3.19</td>\n",
       "    </tr>\n",
       "    <tr>\n",
       "      <th>9</th>\n",
       "      <td>2.82</td>\n",
       "      <td>2.65</td>\n",
       "    </tr>\n",
       "    <tr>\n",
       "      <th>10</th>\n",
       "      <td>3.03</td>\n",
       "      <td>3.00</td>\n",
       "    </tr>\n",
       "    <tr>\n",
       "      <th>11</th>\n",
       "      <td>3.13</td>\n",
       "      <td>3.39</td>\n",
       "    </tr>\n",
       "    <tr>\n",
       "      <th>12</th>\n",
       "      <td>2.86</td>\n",
       "      <td>2.58</td>\n",
       "    </tr>\n",
       "    <tr>\n",
       "      <th>13</th>\n",
       "      <td>3.49</td>\n",
       "      <td>NaN</td>\n",
       "    </tr>\n",
       "    <tr>\n",
       "      <th>14</th>\n",
       "      <td>3.11</td>\n",
       "      <td>NaN</td>\n",
       "    </tr>\n",
       "    <tr>\n",
       "      <th>15</th>\n",
       "      <td>2.13</td>\n",
       "      <td>NaN</td>\n",
       "    </tr>\n",
       "    <tr>\n",
       "      <th>16</th>\n",
       "      <td>3.27</td>\n",
       "      <td>NaN</td>\n",
       "    </tr>\n",
       "  </tbody>\n",
       "</table>\n",
       "</div>"
      ],
      "text/plain": [
       "    Sophomores  Juniors\n",
       "0         3.04     2.56\n",
       "1         1.71     2.77\n",
       "2         3.30     2.70\n",
       "3         2.88     3.00\n",
       "4         2.11     2.98\n",
       "5         2.60     3.47\n",
       "6         2.92     3.26\n",
       "7         3.60     3.20\n",
       "8         2.28     3.19\n",
       "9         2.82     2.65\n",
       "10        3.03     3.00\n",
       "11        3.13     3.39\n",
       "12        2.86     2.58\n",
       "13        3.49      NaN\n",
       "14        3.11      NaN\n",
       "15        2.13      NaN\n",
       "16        3.27      NaN"
      ]
     },
     "execution_count": 9,
     "metadata": {},
     "output_type": "execute_result"
    }
   ],
   "source": [
    "students"
   ]
  },
  {
   "cell_type": "code",
   "execution_count": 12,
   "metadata": {},
   "outputs": [
    {
     "name": "stdout",
     "output_type": "stream",
     "text": [
      "T Statistic is:  0.892728724944096\n"
     ]
    }
   ],
   "source": [
    "sample_mean1 = np.mean(students['Juniors'])\n",
    "sample_std1 = np.std(students['Juniors'])\n",
    "n1 = 13\n",
    "sample_mean2 = np.mean(students['Sophomores'])\n",
    "sample_std2 = np.std(students['Sophomores'])\n",
    "n2 = 17\n",
    "\n",
    "pooled_sample_std = math.sqrt(((n1-1)*sample_std1**2 + (n2-1)*sample_std2**2)/(n1+n2-2))\n",
    "statistic = (sample_mean1-sample_mean2)/(pooled_sample_std*math.sqrt((1/n1)+(1/n2)))\n",
    "print(\"T Statistic is: \", statistic)"
   ]
  },
  {
   "cell_type": "code",
   "execution_count": 14,
   "metadata": {},
   "outputs": [
    {
     "name": "stdout",
     "output_type": "stream",
     "text": [
      "P value is:  0.8101944317062464\n",
      "Critical Value of z is:  -1.7011309342659315\n"
     ]
    }
   ],
   "source": [
    "# Using python to find the p value and critical value\n",
    "\n",
    "from scipy.stats import t\n",
    "\n",
    "print(\"P value is: \", t.cdf(statistic,n1+n2-2))\n",
    "print(\"Critical Value of z is: \", t.ppf(0.05, n1+n2-2)) #alpha is 0.05"
   ]
  },
  {
   "cell_type": "code",
   "execution_count": null,
   "metadata": {},
   "outputs": [],
   "source": [
    "# We do not reject the null hypothesis"
   ]
  }
 ],
 "metadata": {
  "kernelspec": {
   "display_name": "Python 3",
   "language": "python",
   "name": "python3"
  },
  "language_info": {
   "codemirror_mode": {
    "name": "ipython",
    "version": 3
   },
   "file_extension": ".py",
   "mimetype": "text/x-python",
   "name": "python",
   "nbconvert_exporter": "python",
   "pygments_lexer": "ipython3",
   "version": "3.8.5"
  }
 },
 "nbformat": 4,
 "nbformat_minor": 4
}
